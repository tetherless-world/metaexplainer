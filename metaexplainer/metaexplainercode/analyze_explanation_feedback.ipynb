{
 "cells": [
  {
   "cell_type": "code",
   "execution_count": 2,
   "metadata": {},
   "outputs": [],
   "source": [
    "import pandas as pd"
   ]
  },
  {
   "cell_type": "code",
   "execution_count": 3,
   "metadata": {},
   "outputs": [],
   "source": [
    "import sys\n",
    "sys.path.append('../')"
   ]
  },
  {
   "cell_type": "code",
   "execution_count": 4,
   "metadata": {},
   "outputs": [],
   "source": [
    "from metaexplainercode import metaexplainer_utils\n",
    "from metaexplainercode import codeconstants"
   ]
  },
  {
   "cell_type": "code",
   "execution_count": 5,
   "metadata": {},
   "outputs": [],
   "source": [
    "user_responses = codeconstants.SYNTHESIS_FOLDER + '/eval_files/user_responses/'"
   ]
  },
  {
   "cell_type": "code",
   "execution_count": 6,
   "metadata": {},
   "outputs": [],
   "source": [
    "all_subfolders = metaexplainer_utils.get_subfolders_in_folder(user_responses)"
   ]
  },
  {
   "cell_type": "code",
   "execution_count": 8,
   "metadata": {},
   "outputs": [],
   "source": [
    "system_responses_list = []\n",
    "per_explanation_response_list = []\n",
    "user_responses_list = []\n",
    "\n",
    "for response_folder in all_subfolders:\n",
    "    system_responses_list.append(pd.read_excel(response_folder + '/OverallSystemEvaluationSet.xlsx'))"
   ]
  },
  {
   "cell_type": "code",
   "execution_count": 17,
   "metadata": {},
   "outputs": [
    {
     "name": "stdout",
     "output_type": "stream",
     "text": [
      "                                                    Likert Rating\n",
      "Evaluation Question                                              \n",
      "I am confident in the MetaExplainer. I feel tha...       1.777778\n",
      "I like using the system for decision making. [S...       1.666667\n",
      "I want to know more about what the AI did.               4.111111\n",
      "I want to know what the AI would have done if s...       4.111111\n",
      "I want to know why the AI did not make some oth...       4.000000\n",
      "I want to understand what the AI will do next.           3.555556\n",
      "I was surprised by the AI’s actions and want to...       3.000000\n",
      "The MetaExplainer can perform the task better t...       2.444444\n",
      "The outputs of the MetaExplainer are predictabl...       3.222222\n"
     ]
    }
   ],
   "source": [
    "#which dimensions are from trust, curiosity and satisfication\n",
    "\n",
    "system_responses_df = pd.concat(system_responses_list)\n",
    "\n",
    "print(system_responses_df.groupby(['Evaluation Question']).mean())"
   ]
  }
 ],
 "metadata": {
  "kernelspec": {
   "display_name": "base",
   "language": "python",
   "name": "python3"
  },
  "language_info": {
   "codemirror_mode": {
    "name": "ipython",
    "version": 3
   },
   "file_extension": ".py",
   "mimetype": "text/x-python",
   "name": "python",
   "nbconvert_exporter": "python",
   "pygments_lexer": "ipython3",
   "version": "3.9.18"
  }
 },
 "nbformat": 4,
 "nbformat_minor": 2
}
